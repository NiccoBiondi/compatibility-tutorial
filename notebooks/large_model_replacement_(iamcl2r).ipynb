{
  "cells": [
    {
      "cell_type": "markdown",
      "metadata": {
        "id": "ZUCHsJhvBqIV"
      },
      "source": [
        "# User-side adaptation"
      ]
    },
    {
      "cell_type": "code",
      "execution_count": null,
      "metadata": {},
      "outputs": [],
      "source": [
        "# !pip install --quiet continuum"
      ]
    },
    {
      "cell_type": "code",
      "execution_count": 1,
      "metadata": {
        "colab": {
          "base_uri": "https://localhost:8080/"
        },
        "id": "m4wN-3bdAzus",
        "outputId": "94dd4040-aa5a-48fc-c12a-945db330ef3b"
      },
      "outputs": [],
      "source": [
        "import numpy as np\n",
        "import os\n",
        "import os.path as osp\n",
        "import random\n",
        "from collections import OrderedDict\n",
        "from collections import defaultdict as dd\n",
        "\n",
        "import torch\n",
        "import torch.nn as nn\n",
        "import torch.nn.functional as F\n",
        "import torch.optim as optim\n",
        "from torch.utils.data import DataLoader\n",
        "from torch.utils.data.sampler import BatchSampler\n",
        "\n",
        "from torchvision.transforms import transforms\n",
        "from torchvision.datasets import CIFAR10\n",
        "import torchvision.models as models\n",
        "\n",
        "from continuum.datasets import CIFAR100\n",
        "from continuum import ClassIncremental\n",
        "from continuum.rehearsal import RehearsalMemory"
      ]
    },
    {
      "cell_type": "code",
      "execution_count": 2,
      "metadata": {
        "id": "ELgy2ptP7PXH"
      },
      "outputs": [],
      "source": [
        "# download pretrained models checkpoints\n",
        "# !wget -O 'pretrained_models_ckpts.zip'  'https://www.dropbox.com/scl/fi/fz2p1qkpwkd8nribcn9vd/pretrained_models_ckpts.zip?rlkey=w1nxxn2doxciq6dxun883n9du&dl=0'\n",
        "# !unzip 'pretrained_models_ckpts.zip'\n",
        "# !rm 'pretrained_models_ckpts.zip'"
      ]
    },
    {
      "cell_type": "code",
      "execution_count": 13,
      "metadata": {
        "id": "ajegNzhp7YKD"
      },
      "outputs": [],
      "source": [
        "# # choose the number of tasks you want to perform\n",
        "# ntasks = 31\n",
        "ntasks = 7\n",
        "increment = 15                # classes in each subsequent task\n",
        "replace_ids = [0, 2, 4]       # task id in which model replacements occur (0 means start with a pretrained model)\n",
        "\n",
        "checkpoint_path = f'../output/hoc_{ntasks}tasks'  # where to store model checkpoints\n",
        "\n",
        "epochs = 20\n",
        "batch_size = 128\n",
        "img_per_class = 300           # reduce cifar100 to have 300 images per class (instead of the original 500)\n",
        "initial_increment  = 10       # classes in the initial task\n",
        "rehearsal = 20                # number of images per class stored in the episodic memory for rehearsal\n",
        "amp = True                    # automatic mixed precision\n",
        "\n",
        "pretrained_model_path = ['./pretrained_models_ckpts/simplex/ckpt_0.pt',  # resnet18 trained on 100 imagenet32 classes\n",
        "                         './pretrained_models_ckpts/simplex/ckpt_1.pt',  # resnet18 trained on 300 imagenet32 classes\n",
        "                         './pretrained_models_ckpts/simplex/ckpt_2.pt'   # resnet18 trained on 600 imagenet32 classes\n",
        "                        ]\n",
        "\n",
        "# reproducibility\n",
        "seed = 42\n",
        "torch.backends.cudnn.deterministic = True\n",
        "torch.backends.cudnn.benchmark = False\n",
        "torch.manual_seed(seed)\n",
        "np.random.seed(seed)\n",
        "random.seed(seed)"
      ]
    },
    {
      "cell_type": "markdown",
      "metadata": {
        "id": "KlW7lOm07kUn"
      },
      "source": [
        "## HOC loss"
      ]
    },
    {
      "cell_type": "code",
      "execution_count": 4,
      "metadata": {
        "id": "Zs6GHsgO7fMx"
      },
      "outputs": [],
      "source": [
        "# HOC hyperparams\n",
        "preallocated_classes = 1024\n",
        "feat_size = 1023\n",
        "mu_ = 10\n",
        "lambda_ = 0.1\n",
        "\n",
        "class HocLoss(nn.Module):\n",
        "  def __init__(self, mu_ = 10):\n",
        "    super(HocLoss, self).__init__()\n",
        "    self.mu_ = mu_\n",
        "\n",
        "  def forward(self,\n",
        "          feat_new,\n",
        "          feat_old,\n",
        "          labels,\n",
        "          ):\n",
        "    loss = self._loss(feat_old, feat_new, labels)\n",
        "    return loss\n",
        "\n",
        "  def _loss(self, out0, out1, labels):\n",
        "    \"\"\"Calculates infoNCE loss.\n",
        "    This code implements Equation 4 in \"Stationary Representations: Optimally Approximating Compatibility and Implications for Improved Model Replacements\"\n",
        "\n",
        "    Args:\n",
        "        feat_old:\n",
        "            features extracted with the old model.\n",
        "            Shape: (batch_size, embedding_size)\n",
        "        feat_new:\n",
        "            features extracted with the new model.\n",
        "            Shape: (batch_size, embedding_size)\n",
        "        labels:\n",
        "            Labels of the images.\n",
        "            Shape: (batch_size,)\n",
        "    Returns:\n",
        "        Mean loss over the mini-batch.\n",
        "    \"\"\"\n",
        "    batch_size = out0.shape[0]\n",
        "    diag_mask = torch.eye(batch_size, device=out0.device, dtype=torch.bool)\n",
        "    sim_01 = torch.einsum(\"nc,mc->nm\", out0, out1) *  self.mu_\n",
        "\n",
        "    positive_loss = -sim_01[diag_mask]\n",
        "    labels_0 = labels.unsqueeze(1).expand(-1, batch_size)  # Shape: (batch_size, batch_size)\n",
        "    labels_1 = labels.unsqueeze(0).expand(batch_size, -1)  # Shape: (batch_size, batch_size)\n",
        "\n",
        "    class_mask = labels_0 == labels_1\n",
        "    sim_01 = (sim_01* (~class_mask)).view(batch_size, -1)\n",
        "\n",
        "    negative_loss_01 = torch.logsumexp(sim_01, dim=1)\n",
        "    return (positive_loss + negative_loss_01).mean()\n",
        "\n",
        "hoc_loss = HocLoss(mu_)"
      ]
    },
    {
      "cell_type": "markdown",
      "metadata": {
        "id": "ThaONaTy70He"
      },
      "source": [
        "## Target transformation\n",
        "This trasformation to the target avoids overlap between labels of the pretrained models and the labels of the tasks of interest.\n",
        "\n",
        "TBN: This is not the only approach to achieve this goal."
      ]
    },
    {
      "cell_type": "code",
      "execution_count": 5,
      "metadata": {
        "id": "PJ6lzeTH7yut"
      },
      "outputs": [],
      "source": [
        "# local classes are written from the bottom of the shared interface w the server\n",
        "target_transform = transforms.Lambda(lambda y: preallocated_classes - 1 - y)"
      ]
    },
    {
      "cell_type": "markdown",
      "metadata": {},
      "source": [
        "## Models"
      ]
    },
    {
      "cell_type": "markdown",
      "metadata": {
        "id": "YRgB6RQn7rfh"
      },
      "source": [
        "### ResNet18 with d-Simplex fixed classifier"
      ]
    },
    {
      "cell_type": "code",
      "execution_count": 6,
      "metadata": {
        "id": "wIZKTnLd7pTW"
      },
      "outputs": [],
      "source": [
        "class dSimplex_ResNet(nn.Module):\n",
        "  def __init__(self,\n",
        "               num_classes,\n",
        "               feat_size\n",
        "              ):\n",
        "    super(dSimplex_ResNet, self).__init__()\n",
        "    backbone = models.resnet18()\n",
        "    backbone.fc = nn.Identity()\n",
        "    self.backbone = backbone\n",
        "    self.fc1 = nn.Linear(512, feat_size, bias=False)          # junction layer\n",
        "    self.fc2 = nn.Linear(feat_size, num_classes, bias=False)  # classifier\n",
        "    self.fc2.weight.requires_grad = False                     # set no gradient for the fixed classifier\n",
        "    self.fc2.weight.copy_(self.dsimplex(num_classes))         # set the weights for the classifier\n",
        "\n",
        "  def dsimplex(self, num_classes, device='cuda'):\n",
        "    def simplex_coordinates_gpu(n, device):\n",
        "      t = torch.zeros((n + 1, n), device=device)\n",
        "      torch.eye(n, out=t[:-1,:], device=device)\n",
        "      val = (1.0 - torch.sqrt(1.0 + torch.tensor([n], device=device))) / n\n",
        "      t[-1,:].add_(val)\n",
        "      t.add_(-torch.mean(t, dim=0))\n",
        "      t.div_(torch.norm(t, p=2, dim=1, keepdim=True)+ 1e-8)\n",
        "      return t\n",
        "\n",
        "    feat_size = num_classes - 1\n",
        "    return simplex_coordinates_gpu(feat_size, device)\n",
        "\n",
        "  def forward(self, x):\n",
        "    x = self.backbone(x)\n",
        "    z = self.fc1(x)\n",
        "    y = self.fc2(z)\n",
        "    return {'logits': y, 'features': z}\n",
        "\n",
        "  def resume_weights(self, resume_path):\n",
        "    print(f\"Resuming Weights from {resume_path}\")\n",
        "    new_pretrained_dict = torch.load(resume_path, map_location='cpu')\n",
        "    if \"net\" in new_pretrained_dict.keys():\n",
        "      new_pretrained_dict = new_pretrained_dict[\"net\"]\n",
        "\n",
        "    if \"pretrained\" in resume_path:\n",
        "      state_dict = OrderedDict()\n",
        "      for k, v in new_pretrained_dict.items():\n",
        "        name = k.replace('.blocks.', '.')\n",
        "        if name not in self.state_dict().keys():\n",
        "          continue\n",
        "        state_dict[name] = v\n",
        "      del state_dict['fc2.weight'] # remove classifier weights from iamcl2r pretrained weights\n",
        "    else:\n",
        "      state_dict = new_pretrained_dict\n",
        "\n",
        "    self.load_state_dict(state_dict, strict=False)"
      ]
    },
    {
      "cell_type": "markdown",
      "metadata": {},
      "source": [
        "### ResNet18 with trainable classifier"
      ]
    },
    {
      "cell_type": "code",
      "execution_count": 7,
      "metadata": {},
      "outputs": [],
      "source": [
        "## model\n",
        "class Incremental_ResNet(nn.Module):\n",
        "  def __init__(self,\n",
        "               num_classes\n",
        "              ):\n",
        "    super(Incremental_ResNet, self).__init__()\n",
        "    backbone = models.resnet18()\n",
        "    backbone.fc = nn.Identity()\n",
        "    self.feat_size = 512\n",
        "    self.backbone = backbone\n",
        "    self.fc2 = nn.Linear(self.feat_size, num_classes, bias=False)  # classifier\n",
        "\n",
        "  def forward(self, x):\n",
        "    x = self.backbone(x)\n",
        "    y = self.fc2(x)\n",
        "    return {'logits': y, 'features': x}\n",
        "  \n",
        "  def expand_classifier(self, new_classes):\n",
        "    old_classes = self.fc2.weight.data.shape[0]\n",
        "    old_weight = self.fc2.weight.data\n",
        "    self.fc2 = nn.Linear(self.feat_size, old_classes + new_classes, bias=False)\n",
        "    self.fc2.weight.data[:old_classes] = old_weight\n",
        "\n",
        "  def resume_weights(self, resume_path):\n",
        "    # print(f\"Resuming Weights from {resume_path}\")\n",
        "    new_pretrained_dict = torch.load(resume_path, map_location='cpu')\n",
        "    if \"net\" in new_pretrained_dict.keys():\n",
        "      new_pretrained_dict = new_pretrained_dict[\"net\"]\n",
        "\n",
        "    if \"pretrained\" in resume_path:\n",
        "      state_dict = OrderedDict()\n",
        "      for k, v in new_pretrained_dict.items():\n",
        "        name = k.replace('.blocks.', '.')\n",
        "        if name not in self.state_dict().keys():\n",
        "          continue\n",
        "        state_dict[name] = v\n",
        "      del state_dict['fc2.weight'] # remove classifier weights from iamcl2r pretrained weights\n",
        "    else:\n",
        "      state_dict = new_pretrained_dict\n",
        "\n",
        "    self.load_state_dict(state_dict, strict=False)"
      ]
    },
    {
      "cell_type": "markdown",
      "metadata": {
        "id": "KTDyjwjj8AUU"
      },
      "source": [
        "## Utilities funcitons"
      ]
    },
    {
      "cell_type": "code",
      "execution_count": 15,
      "metadata": {
        "colab": {
          "base_uri": "https://localhost:8080/",
          "height": 263
        },
        "id": "8ZYKjILY8Bt5",
        "outputId": "c5d61022-3595-48a6-ecf7-010f24a58fb5"
      },
      "outputs": [
        {
          "name": "stdout",
          "output_type": "stream",
          "text": [
            "Files already downloaded and verified\n",
            "Files already downloaded and verified\n"
          ]
        }
      ],
      "source": [
        "## dataset\n",
        "train_transform = [transforms.Resize((32, 32)),\n",
        "                    transforms.RandomCrop(32, padding=4),\n",
        "                    transforms.RandomHorizontalFlip(),\n",
        "                    transforms.ToTensor(),\n",
        "                    transforms.Normalize((0.5071, 0.4867, 0.4408),\n",
        "                                        (0.2675, 0.2565, 0.2761))\n",
        "                    ]\n",
        "val_transform = [transforms.Resize((32, 32)),\n",
        "                transforms.ToTensor(),\n",
        "                transforms.Normalize((0.5071, 0.4867, 0.4408),\n",
        "                                    (0.2675, 0.2565, 0.2761))\n",
        "                ]\n",
        "\n",
        "# training task-sets for sequential fine-tuning learning\n",
        "scenario_train = ClassIncremental(CIFAR100(data_path='../data', train=True, download=True),\n",
        "                                  initial_increment=initial_increment,\n",
        "                                  increment=increment,\n",
        "                                  transformations=train_transform\n",
        "                                  )\n",
        "num_classes = scenario_train.nb_classes\n",
        "nb_tasks = scenario_train.nb_tasks\n",
        "\n",
        "# episodic memory for rehearsal\n",
        "memory = RehearsalMemory(memory_size=num_classes * rehearsal,\n",
        "                          herding_method=\"random\",\n",
        "                          fixed_memory=True,\n",
        "                          nb_total_classes=num_classes\n",
        "                        )\n",
        "\n",
        "# validation task-sets for sequential fine-tuning learning\n",
        "scenario_val = ClassIncremental(CIFAR100(data_path='../data', train=False, download=True),\n",
        "                                initial_increment=initial_increment,\n",
        "                                increment=increment,\n",
        "                                transformations=val_transform\n",
        "                                )\n",
        "\n",
        "\n",
        "class BalancedBatchSampler(BatchSampler):\n",
        "  def __init__(self, dataset, batch_size, n_classes, n_samples, seen_classes, rehearsal=0):\n",
        "    self.dataset = dataset\n",
        "    self.batch_size = batch_size\n",
        "    self.n_classes = n_classes\n",
        "    self.n_samples = n_samples\n",
        "    self.seen_classes = seen_classes\n",
        "    self.rehearsal = rehearsal\n",
        "    self.n_batches = self.n_samples // self.batch_size # drop last\n",
        "    if self.n_batches == 0:\n",
        "      self.n_batches = 1\n",
        "      self.size = self.n_samples if rehearsal == 0 else self.n_samples//2\n",
        "    elif rehearsal == 0:\n",
        "      self.size = self.batch_size\n",
        "    else:\n",
        "      self.size = self.batch_size//2\n",
        "    self.index_dic = dd(list)\n",
        "    self.indices = []\n",
        "    self.seen_indices = []\n",
        "    for index, y in enumerate(self.dataset._y):\n",
        "      if y not in self.seen_classes:\n",
        "        self.indices.append(index)\n",
        "      else:\n",
        "        self.seen_indices.append(index)\n",
        "\n",
        "  def __iter__(self):\n",
        "    for _ in range(self.n_batches):\n",
        "      batch = []\n",
        "      if self.rehearsal > 0:\n",
        "        replace = True if len(self.seen_indices) <= self.size else False\n",
        "        batch.extend(np.random.choice(self.seen_indices, size=self.size, replace=replace))\n",
        "      replace = True if len(self.indices) <= self.size else False\n",
        "      batch.extend(np.random.choice(self.indices, size=self.size, replace=replace))\n",
        "      yield batch\n",
        "\n",
        "  def __len__(self):\n",
        "    return self.n_batches"
      ]
    },
    {
      "cell_type": "markdown",
      "metadata": {
        "id": "Pc_5xNa-fL6B"
      },
      "source": [
        "## $\\text{IAM-CL}^2\\text{R}$  Training loop"
      ]
    },
    {
      "cell_type": "markdown",
      "metadata": {},
      "source": [
        "### with HOC Loss"
      ]
    },
    {
      "cell_type": "code",
      "execution_count": 16,
      "metadata": {
        "id": "p-dMHlpTtJrj"
      },
      "outputs": [
        {
          "name": "stdout",
          "output_type": "stream",
          "text": [
            "Task 1 new classes in task: [0 1 2 3 4 5 6 7 8 9]\n",
            "Resuming Weights from ./pretrained_models_ckpts/simplex/ckpt_0.pt\n",
            "Resuming Weights from ./pretrained_models_ckpts/simplex/ckpt_0.pt\n",
            "Task 2 new classes in task: [10 11 12 13 14 15 16 17 18 19 20 21 22 23 24]\n",
            "Resuming Weights from ../output/hoc_7tasks/ckpt_0.pt\n",
            "Resuming Weights from ../output/hoc_7tasks/ckpt_0.pt\n",
            "Task 3 new classes in task: [25 26 27 28 29 30 31 32 33 34 35 36 37 38 39]\n",
            "Resuming Weights from ./pretrained_models_ckpts/simplex/ckpt_1.pt\n",
            "Resuming Weights from ./pretrained_models_ckpts/simplex/ckpt_1.pt\n",
            "Task 4 new classes in task: [40 41 42 43 44 45 46 47 48 49 50 51 52 53 54]\n",
            "Resuming Weights from ../output/hoc_7tasks/ckpt_2.pt\n",
            "Resuming Weights from ../output/hoc_7tasks/ckpt_2.pt\n",
            "Task 5 new classes in task: [55 56 57 58 59 60 61 62 63 64 65 66 67 68 69]\n",
            "Resuming Weights from ./pretrained_models_ckpts/simplex/ckpt_2.pt\n",
            "Resuming Weights from ./pretrained_models_ckpts/simplex/ckpt_2.pt\n",
            "Task 6 new classes in task: [70 71 72 73 74 75 76 77 78 79 80 81 82 83 84]\n",
            "Resuming Weights from ../output/hoc_7tasks/ckpt_4.pt\n",
            "Resuming Weights from ../output/hoc_7tasks/ckpt_4.pt\n",
            "Task 7 new classes in task: [85 86 87 88 89 90 91 92 93 94 95 96 97 98 99]\n",
            "Resuming Weights from ../output/hoc_7tasks/ckpt_5.pt\n",
            "Resuming Weights from ../output/hoc_7tasks/ckpt_5.pt\n",
            "Starting Epoch 20/20 at task 7/7\r"
          ]
        }
      ],
      "source": [
        "classes_at_task = []\n",
        "seen_classes = []\n",
        "\n",
        "for task_id, (train_task_set, _) in enumerate(zip(scenario_train, scenario_val)):\n",
        "  if task_id in replace_ids:\n",
        "    resume_path = pretrained_model_path[replace_ids.index(task_id)]\n",
        "  else:\n",
        "    resume_path = osp.join(*(checkpoint_path, f\"ckpt_{task_id-1}.pt\"))\n",
        "\n",
        "  new_data_ids = train_task_set.get_classes()\n",
        "  val_dataset = scenario_val[:task_id + 1]\n",
        "\n",
        "  class_in_step = scenario_train[:task_id].nb_classes + len(new_data_ids) if task_id > 0 else train_task_set.nb_classes\n",
        "  classes_at_task.append(class_in_step)\n",
        "\n",
        "  print(f\"Task {task_id+1} new classes in task: {new_data_ids}\")\n",
        "\n",
        "  previous_net = dSimplex_ResNet(num_classes=preallocated_classes, feat_size=feat_size)\n",
        "  previous_net.resume_weights(resume_path=resume_path)\n",
        "  # set false to require grad for all parameters\n",
        "  for param in previous_net.parameters():\n",
        "      param.requires_grad = False\n",
        "  previous_net.eval()\n",
        "  previous_net.cuda()\n",
        "\n",
        "  net = dSimplex_ResNet(num_classes=preallocated_classes, feat_size=feat_size)\n",
        "  net.resume_weights(resume_path=resume_path)\n",
        "  net.train()\n",
        "  net.cuda()\n",
        "\n",
        "  criterion_cls = nn.CrossEntropyLoss().cuda()\n",
        "  optimizer = optim.SGD(net.parameters(), lr=0.001, momentum=0.9, weight_decay=5e-04)\n",
        "  scheduler_lr = optim.lr_scheduler.CosineAnnealingLR(optimizer, T_max=epochs, eta_min=0.00001)\n",
        "\n",
        "  batchsampler = None\n",
        "  if task_id > 0:\n",
        "      mem_x, mem_y, mem_t = memory.get()\n",
        "      train_task_set.add_samples(mem_x, mem_y, mem_t)\n",
        "      batchsampler = BalancedBatchSampler(train_task_set, n_classes=train_task_set.nb_classes,\n",
        "                                          batch_size=batch_size, n_samples=len(train_task_set._x),\n",
        "                                          seen_classes=seen_classes, rehearsal=rehearsal)\n",
        "      train_loader = DataLoader(train_task_set, batch_sampler=batchsampler,\n",
        "                                num_workers=4)\n",
        "  else:\n",
        "      train_loader = DataLoader(train_task_set, batch_size=batch_size, shuffle=True,\n",
        "                                drop_last=True, num_workers=4)\n",
        "\n",
        "  val_loader = DataLoader(val_dataset,\n",
        "                          batch_size=batch_size, shuffle=False,\n",
        "                          drop_last=False, num_workers=4)\n",
        "\n",
        "  for epoch in range(epochs):\n",
        "    print(f\"Starting Epoch {epoch+1}/{epochs} at task {task_id+1}/{nb_tasks}\", end=\"\\r\")\n",
        "    for batchdata in train_loader:\n",
        "      inputs = batchdata[0].cuda()\n",
        "      targets = batchdata[1].cuda()\n",
        "\n",
        "      # transform targets to write for the end of the feature vector\n",
        "      targets = target_transform(targets)\n",
        "\n",
        "      optimizer.zero_grad()\n",
        "      output = net(inputs)\n",
        "      loss = criterion_cls(output[\"logits\"], targets)\n",
        "      with torch.no_grad():\n",
        "        feature_old = previous_net(inputs)[\"features\"]\n",
        "\n",
        "      loss_feat = hoc_loss(F.normalize(output[\"features\"], dim=1),\n",
        "                          F.normalize(feature_old, dim=1),\n",
        "                          targets\n",
        "                          )\n",
        "      loss = loss * lambda_ + (1 - lambda_) * loss_feat  # Eq. 3 in the paper\n",
        "\n",
        "      loss.backward()\n",
        "      optimizer.step()\n",
        "\n",
        "    scheduler_lr.step()\n",
        "\n",
        "  # save model checkpoint after task\n",
        "  if not osp.exists(checkpoint_path):\n",
        "    os.makedirs(checkpoint_path)\n",
        "  torch.save(net.state_dict(), osp.join(checkpoint_path, f'ckpt_{task_id}.pt'))\n",
        "\n",
        "  # add sample in the episodic memory\n",
        "  memory.add(*scenario_train[task_id].get_raw_samples(), z=None)\n",
        "  seen_classes = torch.tensor(list(memory.seen_classes), device='cuda')\n"
      ]
    },
    {
      "cell_type": "markdown",
      "metadata": {},
      "source": [
        "### with CE loss (ER baseline)"
      ]
    },
    {
      "cell_type": "code",
      "execution_count": 11,
      "metadata": {},
      "outputs": [],
      "source": [
        "ntasks = 7\n",
        "checkpoint_path = f'../output/er_{ntasks}tasks'  # where to store model checkpoints\n",
        "increment = 15                # classes in each subsequent task\n",
        "replace_ids = [0, 2, 4]       # task id in which model replacements occur (0 means start with a pretrained model)\n",
        "\n",
        "epochs = 20\n",
        "batch_size = 128\n",
        "img_per_class = 300           # reduce cifar100 to have 300 images per class (instead of the original 500)\n",
        "initial_increment  = 10       # classes in the initial task\n",
        "rehearsal = 20                # number of images per class stored in the episodic memory for rehearsal\n",
        "\n",
        "pretrained_model_path = ['./pretrained_models_ckpts/learnable/ckpt_0.pt',  # resnet18 trained on 100 imagenet32 classes\n",
        "                         './pretrained_models_ckpts/learnable/ckpt_1.pt',  # resnet18 trained on 300 imagenet32 classes\n",
        "                         './pretrained_models_ckpts/learnable/ckpt_2.pt'   # resnet18 trained on 600 imagenet32 classes\n",
        "                        ]\n",
        "\n",
        "# reproducibility\n",
        "seed = 42\n",
        "torch.backends.cudnn.deterministic = True\n",
        "torch.backends.cudnn.benchmark = False\n",
        "torch.manual_seed(seed)\n",
        "np.random.seed(seed)\n",
        "random.seed(seed)"
      ]
    },
    {
      "cell_type": "code",
      "execution_count": 10,
      "metadata": {},
      "outputs": [
        {
          "name": "stdout",
          "output_type": "stream",
          "text": [
            "Task 1 new classes in task: [0 1 2 3 4 5 6 7 8 9]\n",
            "Resuming Weights from ./pretrained_models_ckpts/learnable/ckpt_0.pt\n",
            "Task 2 new classes in task: [10 11 12 13 14 15 16 17 18 19 20 21 22 23 24]\n",
            "Resuming Weights from ../output/er_7tasks/ckpt_0.pt\n",
            "Task 3 new classes in task: [25 26 27 28 29 30 31 32 33 34 35 36 37 38 39]\n",
            "Resuming Weights from ./pretrained_models_ckpts/learnable/ckpt_1.pt\n",
            "Task 4 new classes in task: [40 41 42 43 44 45 46 47 48 49 50 51 52 53 54]\n",
            "Resuming Weights from ../output/er_7tasks/ckpt_2.pt\n",
            "Task 5 new classes in task: [55 56 57 58 59 60 61 62 63 64 65 66 67 68 69]\n",
            "Resuming Weights from ./pretrained_models_ckpts/learnable/ckpt_2.pt\n",
            "Task 6 new classes in task: [70 71 72 73 74 75 76 77 78 79 80 81 82 83 84]\n",
            "Resuming Weights from ../output/er_7tasks/ckpt_4.pt\n",
            "Task 7 new classes in task: [85 86 87 88 89 90 91 92 93 94 95 96 97 98 99]\n",
            "Resuming Weights from ../output/er_7tasks/ckpt_5.pt\n",
            "Starting Epoch 20/20 at task 7/7\r"
          ]
        }
      ],
      "source": [
        "classes_at_task = []\n",
        "seen_classes = []\n",
        "\n",
        "for task_id, (train_task_set, _) in enumerate(zip(scenario_train, scenario_val)):\n",
        "  if task_id in replace_ids:\n",
        "    resume_path = pretrained_model_path[replace_ids.index(task_id)]\n",
        "  else:\n",
        "    resume_path = osp.join(*(checkpoint_path, f\"ckpt_{task_id-1}.pt\"))\n",
        "\n",
        "  new_data_ids = train_task_set.get_classes()\n",
        "  val_dataset = scenario_val[:task_id + 1]\n",
        "\n",
        "  class_in_step = scenario_train[:task_id].nb_classes + len(new_data_ids) if task_id > 0 else train_task_set.nb_classes\n",
        "  classes_at_task.append(class_in_step)\n",
        "\n",
        "  print(f\"Task {task_id+1} new classes in task: {new_data_ids}\")\n",
        "\n",
        "  nc = classes_at_task[task_id-1] if task_id > 0 else classes_at_task[task_id]\n",
        "  net = Incremental_ResNet(num_classes=nc)\n",
        "  net.resume_weights(resume_path=resume_path)\n",
        "  if task_id > 0:\n",
        "     net.expand_classifier(len(new_data_ids))\n",
        "  net.train()\n",
        "  net.cuda()\n",
        "\n",
        "  optimizer = optim.SGD(net.parameters(), lr=0.001, momentum=0.9, weight_decay=5e-04)\n",
        "  scheduler_lr = optim.lr_scheduler.CosineAnnealingLR(optimizer, T_max=epochs, eta_min=0.00001)\n",
        "  criterion_cls = nn.CrossEntropyLoss().cuda()\n",
        "\n",
        "  batchsampler = None\n",
        "  if task_id > 0:\n",
        "      mem_x, mem_y, mem_t = memory.get()\n",
        "      train_task_set.add_samples(mem_x, mem_y, mem_t)\n",
        "      batchsampler = BalancedBatchSampler(train_task_set, n_classes=train_task_set.nb_classes,\n",
        "                                          batch_size=batch_size, n_samples=len(train_task_set._x),\n",
        "                                          seen_classes=seen_classes, rehearsal=rehearsal)\n",
        "      train_loader = DataLoader(train_task_set, batch_sampler=batchsampler,\n",
        "                                num_workers=4)\n",
        "  else:\n",
        "      train_loader = DataLoader(train_task_set, batch_size=batch_size, shuffle=True,\n",
        "                                drop_last=True, num_workers=4)\n",
        "\n",
        "  val_loader = DataLoader(val_dataset,\n",
        "                          batch_size=batch_size, shuffle=False,\n",
        "                          drop_last=False, num_workers=4)\n",
        "\n",
        "  for epoch in range(epochs):\n",
        "    print(f\"Starting Epoch {epoch+1}/{epochs} at task {task_id+1}/{nb_tasks}\", end=\"\\r\")\n",
        "    for batchdata in train_loader:\n",
        "      inputs = batchdata[0].cuda()\n",
        "      targets = batchdata[1].cuda()\n",
        "\n",
        "      optimizer.zero_grad()\n",
        "\n",
        "      output = net(inputs)\n",
        "      loss = criterion_cls(output[\"logits\"], targets)\n",
        "\n",
        "      loss.backward()\n",
        "      optimizer.step()\n",
        "\n",
        "    scheduler_lr.step()\n",
        "\n",
        "  # save model checkpoint after task\n",
        "  if not osp.exists(checkpoint_path):\n",
        "    os.makedirs(checkpoint_path)\n",
        "  torch.save(net.state_dict(), osp.join(checkpoint_path, f'ckpt_{task_id}.pt'))\n",
        "\n",
        "  # add sample in the episodic memory\n",
        "  memory.add(*scenario_train[task_id].get_raw_samples(), z=None)\n",
        "  seen_classes = torch.tensor(list(memory.seen_classes), device='cuda')"
      ]
    },
    {
      "cell_type": "markdown",
      "metadata": {
        "id": "UTbjw4ZhDXD-"
      },
      "source": [
        "## Compatibility Evaluation"
      ]
    },
    {
      "cell_type": "markdown",
      "metadata": {
        "id": "b3he7e3R9ee9"
      },
      "source": [
        "### Performance and Compatibility Metrics"
      ]
    },
    {
      "cell_type": "code",
      "execution_count": 17,
      "metadata": {
        "id": "7YlrGOvLE6MW"
      },
      "outputs": [
        {
          "name": "stderr",
          "output_type": "stream",
          "text": [
            "Exception ignored in: <function _MultiProcessingDataLoaderIter.__del__ at 0x7f72a6b91a80>\n",
            "Traceback (most recent call last):\n",
            "  File \"/scratch/repos/softmax_simplex/venv/lib/python3.11/site-packages/torch/utils/data/dataloader.py\", line 1479, in __del__\n",
            "    self._shutdown_workers()\n",
            "  File \"/scratch/repos/softmax_simplex/venv/lib/python3.11/site-packages/torch/utils/data/dataloader.py\", line 1437, in _shutdown_workers\n",
            "    if self._persistent_workers or self._workers_status[worker_id]:\n",
            "                                   ^^^^^^^^^^^^^^^^^^^^\n",
            "AttributeError: '_MultiProcessingDataLoaderIter' object has no attribute '_workers_status'\n"
          ]
        }
      ],
      "source": [
        "#!pip install --quiet faiss-cpu\n",
        "import faiss"
      ]
    },
    {
      "cell_type": "code",
      "execution_count": 18,
      "metadata": {
        "id": "fKUujIXZ9G2c"
      },
      "outputs": [],
      "source": [
        "# performance metric\n",
        "def calculate_mAP_gldv2(ranked_gallery_indices, query_gts, topk):\n",
        "  num_q = ranked_gallery_indices.shape[0]\n",
        "  average_precision = np.zeros(num_q, dtype=float)\n",
        "  for i in range(num_q):\n",
        "    retrieved_indices = np.where(np.in1d(ranked_gallery_indices[i], np.array(query_gts[i])))[0]\n",
        "    if retrieved_indices.shape[0] > 0:\n",
        "      retrieved_indices = np.sort(retrieved_indices)\n",
        "      gts_all_count = min(len(query_gts[i]), topk)\n",
        "      for j, index in enumerate(retrieved_indices):\n",
        "        average_precision[i] += (j + 1) * 1.0 / (index + 1)\n",
        "      average_precision[i] /= gts_all_count\n",
        "  return np.mean(average_precision)\n",
        "\n",
        "\n",
        "def image2template_feature(img_feats=None,  # features of all images\n",
        "                           templates=None,  # target of features in input\n",
        "                          ):\n",
        "\n",
        "  unique_templates = np.unique(templates)\n",
        "  unique_subjectids = None\n",
        "\n",
        "  template_feats = np.zeros((len(unique_templates), img_feats.shape[1]))\n",
        "\n",
        "  for count_template, uqt in enumerate(unique_templates):\n",
        "    ind_t = np.where(templates == uqt)[0]\n",
        "    face_norm_feats = img_feats[ind_t]\n",
        "    template_feats[count_template] = np.mean(face_norm_feats, 0)\n",
        "\n",
        "  template_norm_feats = template_feats / np.sqrt(\n",
        "      np.sum(template_feats ** 2, -1, keepdims=True))\n",
        "  return template_norm_feats, unique_templates, unique_subjectids\n",
        "\n",
        "\n",
        "def calculate_rank(query_feats, gallery_feats, topk):\n",
        "  num_q, feat_dim = query_feats.shape\n",
        "  faiss_index = faiss.IndexFlatIP(feat_dim)\n",
        "  faiss_index.add(gallery_feats)\n",
        "  _, ranked_gallery_indices = faiss_index.search(query_feats, topk)\n",
        "  return ranked_gallery_indices\n",
        "\n",
        "\n",
        "def identification(gallery_feats, gallery_gts, query_feats, query_gts, topk=1):\n",
        "  # https://github.com/TencentARC/OpenCompatible/blob/master/data_loader/GLDv2.py#L129\n",
        "  query_gts = np.array(query_gts).reshape(-1, 1)\n",
        "  unique_gallery_feats, _, _ = image2template_feature(gallery_feats, gallery_gts)\n",
        "  unique_gallery_feats = unique_gallery_feats.astype(np.float32)\n",
        "\n",
        "  ranked_gallery_indices = calculate_rank(query_feats, unique_gallery_feats, topk=1)\n",
        "  mAP = calculate_mAP_gldv2(ranked_gallery_indices, query_gts, topk=1)\n",
        "  return mAP"
      ]
    },
    {
      "cell_type": "code",
      "execution_count": 19,
      "metadata": {
        "id": "TR4Ug72WE3VK"
      },
      "outputs": [],
      "source": [
        "# compatibility metrics\n",
        "def create_position_matrix(matrix=None, **kwargs):\n",
        "  position = np.zeros_like(matrix, dtype=bool)\n",
        "  for j in range(matrix.shape[0]):\n",
        "    for i in range(j + 1, matrix.shape[1]):\n",
        "      if matrix[i][j] <= matrix[j][j]:\n",
        "        position[i, j] = True\n",
        "  return position\n",
        "\n",
        "def average_compatibility(matrix=None, position=None, **kwargs):\n",
        "  steps = matrix.shape[0]\n",
        "  if position is None:\n",
        "    position = create_position_matrix(matrix)\n",
        "  max_ac = (steps * (steps-1)) / 2\n",
        "  if max_ac < 1:\n",
        "    max_ac = 1\n",
        "  ac = max_ac - np.sum(position)\n",
        "  return (1/max_ac) * ac\n",
        "\n",
        "def replace_zero_with_nan(matrix, **kwargs):\n",
        "  idx = np.where(matrix == 0)\n",
        "  matrix[idx] = np.nan\n",
        "  return matrix\n",
        "\n",
        "def average_accuracy(matrix=None, per_task=False, **kwargs):\n",
        "  if max(matrix[-1]) < 1:\n",
        "    matrix = matrix * 100\n",
        "  copy_matrix = matrix.copy()\n",
        "  values = [np.nanmean(replace_zero_with_nan(copy_matrix)[:i+1,:i+1]) for i in range(copy_matrix.shape[0])]\n",
        "\n",
        "  if per_task:\n",
        "    return values\n",
        "  else:\n",
        "    return values[-1]"
      ]
    },
    {
      "cell_type": "markdown",
      "metadata": {
        "id": "Cpae1nye9nAq"
      },
      "source": [
        "### Test dataset"
      ]
    },
    {
      "cell_type": "code",
      "execution_count": 20,
      "metadata": {
        "colab": {
          "base_uri": "https://localhost:8080/"
        },
        "id": "Dzef6rzpDgfZ",
        "outputId": "723ab315-8f67-43fa-aa13-50813c204b21"
      },
      "outputs": [
        {
          "name": "stdout",
          "output_type": "stream",
          "text": [
            "Files already downloaded and verified\n",
            "Files already downloaded and verified\n"
          ]
        }
      ],
      "source": [
        "# query and gallery loader\n",
        "transform = transforms.Compose([transforms.Resize((32, 32)),\n",
        "                                    transforms.ToTensor(),\n",
        "                                    transforms.Normalize((0.5071, 0.4867, 0.4408),\n",
        "                                                        (0.2675, 0.2565, 0.2761))\n",
        "                                    ])\n",
        "gallery_set = CIFAR10('../data', train=False, download=True,\n",
        "                      transform=transform)\n",
        "gallery_loader = DataLoader(gallery_set, batch_size=batch_size, shuffle=False,\n",
        "                            drop_last=False, num_workers=4)\n",
        "\n",
        "query_set = CIFAR10('../data', train=True, download=True,\n",
        "                    transform=transform)\n",
        "query_loader = DataLoader(query_set, batch_size=batch_size, shuffle=False,\n",
        "                          drop_last=False, num_workers=4)"
      ]
    },
    {
      "cell_type": "code",
      "execution_count": 21,
      "metadata": {
        "id": "HRdvKIPnDzXb"
      },
      "outputs": [],
      "source": [
        "def extract_features(net, loader):\n",
        "  features = None\n",
        "  net.eval()\n",
        "  with torch.no_grad():\n",
        "    for inputs in loader:\n",
        "      images = inputs[0].cuda()\n",
        "      f = net(images)['features']\n",
        "      f = F.normalize(f, dim=1)\n",
        "      features = torch.cat((features, f), 0) if features is not None else f\n",
        "  return features.detach().cpu().numpy()"
      ]
    },
    {
      "cell_type": "markdown",
      "metadata": {
        "id": "MRWecQuV9pXr"
      },
      "source": [
        "### Extraction of Features"
      ]
    },
    {
      "cell_type": "code",
      "execution_count": 29,
      "metadata": {
        "id": "KFwYMwwMDlC0"
      },
      "outputs": [],
      "source": [
        "# evaluation\n",
        "def compute_comp_matrix(checkpoint_path):\n",
        "  compatibility_matrix = np.zeros((nb_tasks, nb_tasks))\n",
        "  query_targets = query_loader.dataset.targets\n",
        "  gallery_targets = gallery_loader.dataset.targets\n",
        "\n",
        "  if 'hoc' in checkpoint_path:\n",
        "    previous_net = dSimplex_ResNet(num_classes=preallocated_classes, feat_size=feat_size)\n",
        "    net = dSimplex_ResNet(num_classes=preallocated_classes, feat_size=feat_size)\n",
        "\n",
        "  for task_id in range(nb_tasks):\n",
        "    ckpt_path = osp.join(*(checkpoint_path, f\"ckpt_{task_id}.pt\"))\n",
        "    if 'er' in checkpoint_path:\n",
        "      net = Incremental_ResNet(num_classes=classes_at_task[task_id])\n",
        "    net.resume_weights(resume_path=ckpt_path)\n",
        "    net.eval()\n",
        "    net.cuda()\n",
        "\n",
        "    query_feat = extract_features(net, query_loader)\n",
        "\n",
        "    for i in range(task_id+1):\n",
        "        ckpt_path = osp.join(*(checkpoint_path, f\"ckpt_{i}.pt\"))\n",
        "        if 'er' in checkpoint_path:\n",
        "          previous_net = Incremental_ResNet(num_classes=classes_at_task[i])\n",
        "        previous_net.resume_weights(resume_path=ckpt_path)\n",
        "        previous_net.eval()\n",
        "        previous_net.cuda()\n",
        "\n",
        "        gallery_feat = extract_features(previous_net, gallery_loader)\n",
        "\n",
        "        acc = identification(gallery_feat, gallery_targets,\n",
        "                            query_feat, query_targets,\n",
        "                            topk=1\n",
        "                            )\n",
        "\n",
        "        compatibility_matrix[task_id][i] = acc\n",
        "        # if i != task_id:\n",
        "        #     acc_str = f'Cross-test between models at task {task_id+1} and {i+1}'\n",
        "        # else:\n",
        "        #     acc_str = f'Self-test of model at task {i+1}'\n",
        "        # print(f'{acc_str} 1:N search acc: {acc:.2f}')\n",
        "\n",
        "  print(f\"Compatibility Matrix:\\n{compatibility_matrix}\")\n",
        "\n",
        "  if compatibility_matrix.shape[0] > 1:\n",
        "    ac = average_compatibility(matrix=compatibility_matrix)\n",
        "    aa = average_accuracy(matrix=compatibility_matrix)\n",
        "\n",
        "    print(f\"AC = {ac:.2f}\")\n",
        "    print(f\"AA = {aa:.3f}\")\n",
        "  return compatibility_matrix"
      ]
    },
    {
      "cell_type": "markdown",
      "metadata": {},
      "source": [
        "### with HOC loss"
      ]
    },
    {
      "cell_type": "code",
      "execution_count": 25,
      "metadata": {},
      "outputs": [
        {
          "name": "stdout",
          "output_type": "stream",
          "text": [
            "Resuming Weights from ../output/hoc_7tasks/ckpt_0.pt\n",
            "Resuming Weights from ../output/hoc_7tasks/ckpt_0.pt\n",
            "Self-test of model at task 1 1:N search acc: 0.58\n",
            "Resuming Weights from ../output/hoc_7tasks/ckpt_1.pt\n",
            "Resuming Weights from ../output/hoc_7tasks/ckpt_0.pt\n",
            "Cross-test between models at task 2 and 1 1:N search acc: 0.55\n",
            "Resuming Weights from ../output/hoc_7tasks/ckpt_1.pt\n",
            "Self-test of model at task 2 1:N search acc: 0.60\n",
            "Resuming Weights from ../output/hoc_7tasks/ckpt_2.pt\n",
            "Resuming Weights from ../output/hoc_7tasks/ckpt_0.pt\n",
            "Cross-test between models at task 3 and 1 1:N search acc: 0.60\n",
            "Resuming Weights from ../output/hoc_7tasks/ckpt_1.pt\n",
            "Cross-test between models at task 3 and 2 1:N search acc: 0.64\n",
            "Resuming Weights from ../output/hoc_7tasks/ckpt_2.pt\n",
            "Self-test of model at task 3 1:N search acc: 0.67\n",
            "Resuming Weights from ../output/hoc_7tasks/ckpt_3.pt\n",
            "Resuming Weights from ../output/hoc_7tasks/ckpt_0.pt\n",
            "Cross-test between models at task 4 and 1 1:N search acc: 0.58\n",
            "Resuming Weights from ../output/hoc_7tasks/ckpt_1.pt\n",
            "Cross-test between models at task 4 and 2 1:N search acc: 0.64\n",
            "Resuming Weights from ../output/hoc_7tasks/ckpt_2.pt\n",
            "Cross-test between models at task 4 and 3 1:N search acc: 0.65\n",
            "Resuming Weights from ../output/hoc_7tasks/ckpt_3.pt\n",
            "Self-test of model at task 4 1:N search acc: 0.70\n",
            "Resuming Weights from ../output/hoc_7tasks/ckpt_4.pt\n",
            "Resuming Weights from ../output/hoc_7tasks/ckpt_0.pt\n",
            "Cross-test between models at task 5 and 1 1:N search acc: 0.61\n",
            "Resuming Weights from ../output/hoc_7tasks/ckpt_1.pt\n",
            "Cross-test between models at task 5 and 2 1:N search acc: 0.66\n",
            "Resuming Weights from ../output/hoc_7tasks/ckpt_2.pt\n",
            "Cross-test between models at task 5 and 3 1:N search acc: 0.67\n",
            "Resuming Weights from ../output/hoc_7tasks/ckpt_3.pt\n",
            "Cross-test between models at task 5 and 4 1:N search acc: 0.70\n",
            "Resuming Weights from ../output/hoc_7tasks/ckpt_4.pt\n",
            "Self-test of model at task 5 1:N search acc: 0.73\n",
            "Resuming Weights from ../output/hoc_7tasks/ckpt_5.pt\n",
            "Resuming Weights from ../output/hoc_7tasks/ckpt_0.pt\n",
            "Cross-test between models at task 6 and 1 1:N search acc: 0.62\n",
            "Resuming Weights from ../output/hoc_7tasks/ckpt_1.pt\n",
            "Cross-test between models at task 6 and 2 1:N search acc: 0.66\n",
            "Resuming Weights from ../output/hoc_7tasks/ckpt_2.pt\n",
            "Cross-test between models at task 6 and 3 1:N search acc: 0.68\n",
            "Resuming Weights from ../output/hoc_7tasks/ckpt_3.pt\n",
            "Cross-test between models at task 6 and 4 1:N search acc: 0.72\n",
            "Resuming Weights from ../output/hoc_7tasks/ckpt_4.pt\n",
            "Cross-test between models at task 6 and 5 1:N search acc: 0.74\n",
            "Resuming Weights from ../output/hoc_7tasks/ckpt_5.pt\n",
            "Self-test of model at task 6 1:N search acc: 0.76\n",
            "Resuming Weights from ../output/hoc_7tasks/ckpt_6.pt\n",
            "Resuming Weights from ../output/hoc_7tasks/ckpt_0.pt\n",
            "Cross-test between models at task 7 and 1 1:N search acc: 0.61\n",
            "Resuming Weights from ../output/hoc_7tasks/ckpt_1.pt\n",
            "Cross-test between models at task 7 and 2 1:N search acc: 0.65\n",
            "Resuming Weights from ../output/hoc_7tasks/ckpt_2.pt\n",
            "Cross-test between models at task 7 and 3 1:N search acc: 0.68\n",
            "Resuming Weights from ../output/hoc_7tasks/ckpt_3.pt\n",
            "Cross-test between models at task 7 and 4 1:N search acc: 0.72\n",
            "Resuming Weights from ../output/hoc_7tasks/ckpt_4.pt\n",
            "Cross-test between models at task 7 and 5 1:N search acc: 0.74\n",
            "Resuming Weights from ../output/hoc_7tasks/ckpt_5.pt\n",
            "Cross-test between models at task 7 and 6 1:N search acc: 0.76\n",
            "Resuming Weights from ../output/hoc_7tasks/ckpt_6.pt\n",
            "Self-test of model at task 7 1:N search acc: 0.77\n",
            "Compatibility Matrix:\n",
            "[[0.58188 0.      0.      0.      0.      0.      0.     ]\n",
            " [0.55022 0.60276 0.      0.      0.      0.      0.     ]\n",
            " [0.60492 0.64158 0.6699  0.      0.      0.      0.     ]\n",
            " [0.58302 0.64018 0.65412 0.70228 0.      0.      0.     ]\n",
            " [0.60824 0.66098 0.67008 0.70332 0.72662 0.      0.     ]\n",
            " [0.61652 0.66428 0.67916 0.71878 0.7411  0.75714 0.     ]\n",
            " [0.61028 0.6506  0.68186 0.71944 0.7434  0.7593  0.76562]]\n",
            "AC = 0.90\n",
            "AA = 66.813\n"
          ]
        }
      ],
      "source": [
        "hoc_compatibility_matrix = compute_comp_matrix(checkpoint_path=f'../output/hoc_{ntasks}tasks')"
      ]
    },
    {
      "cell_type": "markdown",
      "metadata": {},
      "source": [
        "### with CE loss (ER baseline)"
      ]
    },
    {
      "cell_type": "code",
      "execution_count": 30,
      "metadata": {},
      "outputs": [
        {
          "name": "stdout",
          "output_type": "stream",
          "text": [
            "Resuming Weights from ../output/er_7tasks/ckpt_0.pt\n",
            "Resuming Weights from ../output/er_7tasks/ckpt_0.pt\n",
            "Resuming Weights from ../output/er_7tasks/ckpt_1.pt\n",
            "Resuming Weights from ../output/er_7tasks/ckpt_0.pt\n",
            "Resuming Weights from ../output/er_7tasks/ckpt_1.pt\n",
            "Resuming Weights from ../output/er_7tasks/ckpt_2.pt\n",
            "Resuming Weights from ../output/er_7tasks/ckpt_0.pt\n",
            "Resuming Weights from ../output/er_7tasks/ckpt_1.pt\n",
            "Resuming Weights from ../output/er_7tasks/ckpt_2.pt\n",
            "Resuming Weights from ../output/er_7tasks/ckpt_3.pt\n",
            "Resuming Weights from ../output/er_7tasks/ckpt_0.pt\n",
            "Resuming Weights from ../output/er_7tasks/ckpt_1.pt\n",
            "Resuming Weights from ../output/er_7tasks/ckpt_2.pt\n",
            "Resuming Weights from ../output/er_7tasks/ckpt_3.pt\n",
            "Resuming Weights from ../output/er_7tasks/ckpt_4.pt\n",
            "Resuming Weights from ../output/er_7tasks/ckpt_0.pt\n",
            "Resuming Weights from ../output/er_7tasks/ckpt_1.pt\n",
            "Resuming Weights from ../output/er_7tasks/ckpt_2.pt\n",
            "Resuming Weights from ../output/er_7tasks/ckpt_3.pt\n",
            "Resuming Weights from ../output/er_7tasks/ckpt_4.pt\n",
            "Resuming Weights from ../output/er_7tasks/ckpt_5.pt\n",
            "Resuming Weights from ../output/er_7tasks/ckpt_0.pt\n",
            "Resuming Weights from ../output/er_7tasks/ckpt_1.pt\n",
            "Resuming Weights from ../output/er_7tasks/ckpt_2.pt\n",
            "Resuming Weights from ../output/er_7tasks/ckpt_3.pt\n",
            "Resuming Weights from ../output/er_7tasks/ckpt_4.pt\n",
            "Resuming Weights from ../output/er_7tasks/ckpt_5.pt\n",
            "Resuming Weights from ../output/er_7tasks/ckpt_6.pt\n",
            "Resuming Weights from ../output/er_7tasks/ckpt_0.pt\n",
            "Resuming Weights from ../output/er_7tasks/ckpt_1.pt\n",
            "Resuming Weights from ../output/er_7tasks/ckpt_2.pt\n",
            "Resuming Weights from ../output/er_7tasks/ckpt_3.pt\n",
            "Resuming Weights from ../output/er_7tasks/ckpt_4.pt\n",
            "Resuming Weights from ../output/er_7tasks/ckpt_5.pt\n",
            "Resuming Weights from ../output/er_7tasks/ckpt_6.pt\n",
            "Compatibility Matrix:\n",
            "[[0.64392 0.      0.      0.      0.      0.      0.     ]\n",
            " [0.63296 0.6319  0.      0.      0.      0.      0.     ]\n",
            " [0.12112 0.11302 0.72644 0.      0.      0.      0.     ]\n",
            " [0.11316 0.1069  0.71898 0.71964 0.      0.      0.     ]\n",
            " [0.0712  0.07132 0.10304 0.11848 0.75312 0.      0.     ]\n",
            " [0.07592 0.0782  0.10798 0.1206  0.74652 0.7496  0.     ]\n",
            " [0.0821  0.0835  0.10932 0.12576 0.73862 0.74326 0.74386]]\n",
            "AC = 0.00\n",
            "AA = 36.252\n"
          ]
        }
      ],
      "source": [
        "er_compatibility_matrix = compute_comp_matrix(checkpoint_path= f'../output/er_{ntasks}tasks')"
      ]
    },
    {
      "cell_type": "markdown",
      "metadata": {
        "id": "jBJV-tmA9uOb"
      },
      "source": [
        "### Plot function"
      ]
    },
    {
      "cell_type": "code",
      "execution_count": 38,
      "metadata": {
        "id": "tnLyHrfnFEe8"
      },
      "outputs": [
        {
          "data": {
            "image/png": "[encoded data removed]",
            "text/plain": [
              "<Figure size 1000x800 with 1 Axes>"
            ]
          },
          "metadata": {},
          "output_type": "display_data"
        }
      ],
      "source": [
        "# plot AM per task\n",
        "import matplotlib.pyplot as plt\n",
        "plt.rcParams.update({\n",
        "    'text.usetex': False,\n",
        "    'text.latex.preamble': r'\\usepackage{amsfonts}'\n",
        "})\n",
        "plt.rcParams[\"figure.figsize\"] = (10,8)\n",
        "\n",
        "er_values = average_accuracy(matrix=er_compatibility_matrix, per_task=True)\n",
        "hoc_values = average_accuracy(matrix=hoc_compatibility_matrix, per_task=True)\n",
        "ntasks = er_compatibility_matrix.shape[0]\n",
        "\n",
        "fig, ax = plt.subplots()\n",
        "replacemenet_ids = replace_ids[1:]\n",
        "for idx in replacemenet_ids:\n",
        "  plt.axvline(x=idx+1, color='#DDDDDD', linestyle='solid', lw=1.5, zorder=-5)\n",
        "plt.grid(axis='y', color='#DDDDDD', linestyle='solid', lw=1.5, zorder=-5)\n",
        "x = np.arange(1, ntasks+1)\n",
        "\n",
        "face_colors = ['white' if not i in replacemenet_ids else 'yellow' for i in range(len(x))]\n",
        "er_cols = ['green' if not i in replacemenet_ids else 'red' for i in range(len(x))]\n",
        "hoc_cols = ['#D92929' if not i in replacemenet_ids else 'red' for i in range(len(x))]\n",
        "sizes = [150 if i in replacemenet_ids else 50 for i in range(len(x))]\n",
        "\n",
        "plt.plot(x, er_values, color='green', linestyle='solid', lw=2, zorder=2, label=\"ER\")\n",
        "plt.scatter(x, er_values, s=sizes, marker='s', edgecolors=er_cols, lw=1.5, facecolors=face_colors, zorder=2)\n",
        "\n",
        "plt.plot(x, hoc_values, color='#D92929', linestyle='solid', lw=2, zorder=2, label=r\"$d$-Simplex-HOC\")\n",
        "plt.scatter(x, hoc_values, s=sizes, marker='s', edgecolors=hoc_cols, lw=1.5, facecolors=face_colors, zorder=2)\n",
        "\n",
        "plt.xticks(x)\n",
        "plt.xlim(0.7, ntasks + 0.2)\n",
        "ax.set_xlabel('Task')\n",
        "ax.set_ylabel(r'${AA}_{t}$')\n",
        "plt.legend()\n",
        "plt.ylim(27, 73)\n",
        "plt.show()"
      ]
    },
    {
      "cell_type": "code",
      "execution_count": null,
      "metadata": {},
      "outputs": [],
      "source": []
    }
  ],
  "metadata": {
    "colab": {
      "provenance": [],
      "toc_visible": true
    },
    "kernelspec": {
      "display_name": "Python 3",
      "name": "python3"
    },
    "language_info": {
      "codemirror_mode": {
        "name": "ipython",
        "version": 3
      },
      "file_extension": ".py",
      "mimetype": "text/x-python",
      "name": "python",
      "nbconvert_exporter": "python",
      "pygments_lexer": "ipython3",
      "version": "3.11.4"
    }
  },
  "nbformat": 4,
  "nbformat_minor": 0
}
